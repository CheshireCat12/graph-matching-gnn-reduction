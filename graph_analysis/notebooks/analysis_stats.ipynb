{
 "cells": [
  {
   "cell_type": "code",
   "execution_count": 205,
   "metadata": {
    "tags": []
   },
   "outputs": [],
   "source": [
    "# %matplotlib notebook\n",
    "import matplotlib.pyplot as plt\n",
    "import numpy as np\n",
    "import json\n",
    "from os.path import join"
   ]
  },
  {
   "cell_type": "code",
   "execution_count": 206,
   "metadata": {
    "collapsed": false,
    "jupyter": {
     "outputs_hidden": false
    },
    "pycharm": {
     "name": "#%%\n"
    }
   },
   "outputs": [],
   "source": [
    "dataset_name = 'proteins'\n",
    "level_reduction = '100'\n",
    "seed = '1860'\n",
    "folder = f'../results/{dataset_name}/analysis_refused'\n",
    "filename = join(folder,\n",
    "                level_reduction,\n",
    "                seed,\n",
    "                'graph_stats.json')\n",
    "\n",
    "with open(filename, 'r') as file:\n",
    "    graph_stats = json.load(file)"
   ]
  },
  {
   "cell_type": "code",
   "execution_count": 207,
   "metadata": {
    "collapsed": false,
    "jupyter": {
     "outputs_hidden": false
    },
    "pycharm": {
     "name": "#%%\n"
    }
   },
   "outputs": [],
   "source": [
    "# Set matplotlib's style\n",
    "plt.style.use('seaborn')"
   ]
  },
  {
   "cell_type": "code",
   "execution_count": 208,
   "metadata": {
    "collapsed": false,
    "jupyter": {
     "outputs_hidden": false
    },
    "pycharm": {
     "name": "#%%\n"
    }
   },
   "outputs": [],
   "source": [
    "a = 4"
   ]
  },
  {
   "cell_type": "code",
   "execution_count": 209,
   "metadata": {
    "collapsed": false,
    "jupyter": {
     "outputs_hidden": false
    },
    "pycharm": {
     "name": "#%%\n"
    }
   },
   "outputs": [],
   "source": [
    "def plot_bar(values, title, xlabel='--'):\n",
    "    counts = np.bincount(values)\n",
    "\n",
    "    fig, ax = plt.subplots()\n",
    "\n",
    "    if np.max(values) > 50:\n",
    "        ax.hist(values,\n",
    "                bins=range(max(values)))\n",
    "    else:\n",
    "        ax.bar(range(counts.size),\n",
    "               counts,\n",
    "               width=0.3,\n",
    "               align='center',\n",
    "               linewidth=0.9,\n",
    "               edgecolor=\"white\")\n",
    "        ax.set(\n",
    "            xticks=range(counts.size),\n",
    "            xlim=[0, counts.size],\n",
    "        )\n",
    "\n",
    "    ax.set(\n",
    "        title=title,\n",
    "        xlabel=xlabel,\n",
    "        ylabel='# graphs'\n",
    "    )\n",
    "    # ax.autoscale(tight=True)\n",
    "\n",
    "    plt.show()\n",
    "\n",
    "\n",
    "def print_statistics(values, name):\n",
    "    resume = '-' * 20 + '\\n'\n",
    "    resume += f'Mean {name}: {np.mean(values):.2f}±{np.std(values):.2f}\\n'\n",
    "    resume += f'Median {name}: {np.median(values):.2f}\\n'\n",
    "    resume += f'Min-Max {name}: {np.min(values):.2f}-{np.max(values):.2f}\\n'\n",
    "    \n",
    "    return resume"
   ]
  },
  {
   "cell_type": "code",
   "execution_count": 210,
   "metadata": {
    "collapsed": false,
    "jupyter": {
     "outputs_hidden": false
    },
    "pycharm": {
     "name": "#%%\n"
    }
   },
   "outputs": [
    {
     "name": "stdout",
     "output_type": "stream",
     "text": [
      "-- statistics - 100 --\n",
      "--------------------\n",
      "Mean num connected components: 1.10±0.64\n",
      "Median num connected components: 1.00\n",
      "Min-Max num connected components: 1.00-9.00\n",
      "--------------------\n",
      "Mean num isolated nodes: 0.01±0.08\n",
      "Median num isolated nodes: 0.00\n",
      "Min-Max num isolated nodes: 0.00-1.00\n",
      "--------------------\n",
      "Mean num nodes: 39.35±47.29\n",
      "Median num nodes: 25.00\n",
      "Min-Max num nodes: 4.00-620.00\n",
      "--------------------\n",
      "Mean num edges: 73.33±88.72\n",
      "Median num edges: 48.00\n",
      "Min-Max num edges: 5.00-1049.00\n",
      "--------------------\n",
      "Mean edge density: 1.86±0.22\n",
      "Median edge density: 1.83\n",
      "Min-Max edge density: 0.86-2.50\n",
      "--------------------\n",
      "Mean mean degree: 3.72±0.44\n",
      "Median mean degree: 3.67\n",
      "Min-Max mean degree: 1.71-5.00\n",
      "--------------------\n",
      "Mean max degrees: 5.76±1.11\n",
      "Median max degrees: 6.00\n",
      "Min-Max max degrees: 3.00-12.00\n",
      "\n"
     ]
    }
   ],
   "source": [
    "resume = f'-- statistics - {level_reduction} --\\n'\n",
    "resume += print_statistics(graph_stats['n_connected_components'],\n",
    "                 'num connected components')\n",
    "resume += print_statistics(graph_stats['n_isolated_nodes'],\n",
    "                 'num isolated nodes')\n",
    "resume += print_statistics(graph_stats['n_nodes'],\n",
    "                 'num nodes')\n",
    "resume += print_statistics(graph_stats['n_edges'],\n",
    "                 'num edges')\n",
    "resume += print_statistics(np.array(graph_stats['n_edges']) / np.array(graph_stats['n_nodes']),\n",
    "                           'edge density')\n",
    "resume += print_statistics(graph_stats['mean_degrees'],\n",
    "                 'mean degree')\n",
    "resume += print_statistics(graph_stats['max_degrees'],\n",
    "                 'max degrees')\n",
    "\n",
    "filename = join(folder,\n",
    "               f'resume_stats_seed_{seed}_lvl_{level_reduction}.txt')\n",
    "with open(filename, 'w') as output:\n",
    "    output.write(resume)\n",
    "print(resume)"
   ]
  },
  {
   "cell_type": "code",
   "execution_count": 211,
   "metadata": {
    "collapsed": false,
    "jupyter": {
     "outputs_hidden": false
    },
    "pycharm": {
     "name": "#%%\n"
    }
   },
   "outputs": [],
   "source": [
    "## Connected Components\n",
    "# plot_bar(graph_stats['n_connected_components'],\n",
    "#          title=f'{dataset_name.upper()} - Analysis Connected Components',\n",
    "#          xlabel='# Connected Components / graph')"
   ]
  },
  {
   "cell_type": "code",
   "execution_count": 212,
   "metadata": {
    "collapsed": false,
    "jupyter": {
     "outputs_hidden": false
    },
    "pycharm": {
     "name": "#%%\n"
    }
   },
   "outputs": [],
   "source": [
    "# Isolated nodes\n",
    "# plot_bar(graph_stats['n_isolated_nodes'],\n",
    "#          title=f'{dataset_name.upper()} - Analysis Isolated Nodes',\n",
    "#          xlabel='# isolated nodes / graph')"
   ]
  },
  {
   "cell_type": "code",
   "execution_count": 213,
   "metadata": {
    "collapsed": false,
    "jupyter": {
     "outputs_hidden": false
    },
    "pycharm": {
     "name": "#%%\n"
    }
   },
   "outputs": [],
   "source": [
    "# plot_bar(graph_stats['n_nodes'],\n",
    "#          title=f'{dataset_name.upper()} - Analysis Number of Nodes',\n",
    "#          xlabel='# nodes / graph')"
   ]
  },
  {
   "cell_type": "code",
   "execution_count": 214,
   "metadata": {
    "collapsed": false,
    "jupyter": {
     "outputs_hidden": false
    },
    "pycharm": {
     "name": "#%%\n"
    }
   },
   "outputs": [],
   "source": [
    "# plot_bar(graph_stats['n_edges'],\n",
    "#          title=f'{dataset_name.upper()} - Analysis Number of Edges',\n",
    "#          xlabel='# edges / graph')"
   ]
  },
  {
   "cell_type": "code",
   "execution_count": 215,
   "metadata": {
    "collapsed": false,
    "jupyter": {
     "outputs_hidden": false
    },
    "pycharm": {
     "name": "#%%\n"
    }
   },
   "outputs": [],
   "source": [
    "# plot_bar(graph_stats['mean_degrees'],\n",
    "#          title=f'{dataset_name.upper()} - Analysis Mean Degrees',\n",
    "#          xlabel='# mean degrees / graph')"
   ]
  },
  {
   "cell_type": "code",
   "execution_count": 216,
   "metadata": {
    "collapsed": false,
    "jupyter": {
     "outputs_hidden": false
    },
    "pycharm": {
     "name": "#%%\n"
    }
   },
   "outputs": [],
   "source": [
    "\n",
    "# plot_bar(graph_stats['max_degrees'],\n",
    "#          title=f'{dataset_name.upper()} - Analysis Max Degree',\n",
    "#          xlabel='# max degrees / graph')"
   ]
  },
  {
   "cell_type": "code",
   "execution_count": null,
   "metadata": {
    "collapsed": false,
    "jupyter": {
     "outputs_hidden": false
    },
    "pycharm": {
     "name": "#%%\n"
    }
   },
   "outputs": [],
   "source": []
  }
 ],
 "metadata": {
  "kernelspec": {
   "display_name": "Python 3 (ipykernel)",
   "language": "python",
   "name": "python3"
  },
  "language_info": {
   "codemirror_mode": {
    "name": "ipython",
    "version": 3
   },
   "file_extension": ".py",
   "mimetype": "text/x-python",
   "name": "python",
   "nbconvert_exporter": "python",
   "pygments_lexer": "ipython3",
   "version": "3.9.10"
  }
 },
 "nbformat": 4,
 "nbformat_minor": 4
}
