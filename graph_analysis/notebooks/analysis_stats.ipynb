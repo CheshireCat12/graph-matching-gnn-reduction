{
 "cells": [
  {
   "cell_type": "code",
   "execution_count": 1,
   "metadata": {
    "tags": []
   },
   "outputs": [],
   "source": [
    "# %matplotlib notebook\n",
    "import matplotlib.pyplot as plt\n",
    "import numpy as np\n",
    "import json\n",
    "from os.path import join"
   ]
  },
  {
   "cell_type": "code",
   "execution_count": 17,
   "metadata": {
    "collapsed": false,
    "jupyter": {
     "outputs_hidden": false
    },
    "pycharm": {
     "name": "#%%\n"
    }
   },
   "outputs": [],
   "source": [
    "dataset_name = 'proteins'\n",
    "levels_reduction = ['100', '25_freeze']\n",
    "seed = '1860'\n",
    "folder = f'../results/{dataset_name}/analysis_refused'\n",
    "\n",
    "graph_stats = {}\n",
    "for lvl in levels_reduction:\n",
    "    filename = join(folder,\n",
    "                lvl,\n",
    "                seed,\n",
    "                'graph_stats.json')\n",
    "\n",
    "    with open(filename, 'r') as file:\n",
    "        graph_stats[lvl] = json.load(file)"
   ]
  },
  {
   "cell_type": "code",
   "execution_count": null,
   "metadata": {},
   "outputs": [],
   "source": []
  },
  {
   "cell_type": "code",
   "execution_count": 19,
   "metadata": {
    "collapsed": false,
    "jupyter": {
     "outputs_hidden": false
    },
    "pycharm": {
     "name": "#%%\n"
    }
   },
   "outputs": [],
   "source": [
    "# Set matplotlib's style\n",
    "plt.style.use('seaborn')"
   ]
  },
  {
   "cell_type": "raw",
   "metadata": {
    "jupyter": {
     "outputs_hidden": false
    },
    "pycharm": {
     "name": "#%%\n"
    }
   },
   "source": []
  },
  {
   "cell_type": "code",
   "execution_count": 4,
   "metadata": {
    "collapsed": false,
    "jupyter": {
     "outputs_hidden": false
    },
    "pycharm": {
     "name": "#%%\n"
    }
   },
   "outputs": [],
   "source": [
    "\n",
    "\n",
    "\n",
    "def print_statistics(values, name):\n",
    "    resume = '-' * 20 + '\\n'\n",
    "    resume += f'Mean {name}: {np.mean(values):.2f}±{np.std(values):.2f}\\n'\n",
    "    resume += f'Median {name}: {np.median(values):.2f}\\n'\n",
    "    resume += f'Min-Max {name}: {np.min(values):.2f}-{np.max(values):.2f}\\n'\n",
    "    \n",
    "    return resume"
   ]
  },
  {
   "cell_type": "code",
   "execution_count": 41,
   "metadata": {
    "collapsed": false,
    "jupyter": {
     "outputs_hidden": false
    },
    "pycharm": {
     "name": "#%%\n"
    }
   },
   "outputs": [
    {
     "ename": "NameError",
     "evalue": "name 'level_reduction' is not defined",
     "output_type": "error",
     "traceback": [
      "\u001b[0;31m---------------------------------------------------------------------------\u001b[0m",
      "\u001b[0;31mNameError\u001b[0m                                 Traceback (most recent call last)",
      "Input \u001b[0;32mIn [41]\u001b[0m, in \u001b[0;36m<cell line: 1>\u001b[0;34m()\u001b[0m\n\u001b[0;32m----> 1\u001b[0m resume \u001b[38;5;241m=\u001b[39m \u001b[38;5;124mf\u001b[39m\u001b[38;5;124m'\u001b[39m\u001b[38;5;124m-- statistics - \u001b[39m\u001b[38;5;132;01m{\u001b[39;00mlevel_reduction\u001b[38;5;132;01m}\u001b[39;00m\u001b[38;5;124m --\u001b[39m\u001b[38;5;130;01m\\n\u001b[39;00m\u001b[38;5;124m'\u001b[39m\n\u001b[1;32m      2\u001b[0m resume \u001b[38;5;241m+\u001b[39m\u001b[38;5;241m=\u001b[39m print_statistics(graph_stats[\u001b[38;5;124m'\u001b[39m\u001b[38;5;124mn_connected_components\u001b[39m\u001b[38;5;124m'\u001b[39m],\n\u001b[1;32m      3\u001b[0m                  \u001b[38;5;124m'\u001b[39m\u001b[38;5;124mnum connected components\u001b[39m\u001b[38;5;124m'\u001b[39m)\n\u001b[1;32m      4\u001b[0m resume \u001b[38;5;241m+\u001b[39m\u001b[38;5;241m=\u001b[39m print_statistics(graph_stats[\u001b[38;5;124m'\u001b[39m\u001b[38;5;124mn_isolated_nodes\u001b[39m\u001b[38;5;124m'\u001b[39m],\n\u001b[1;32m      5\u001b[0m                  \u001b[38;5;124m'\u001b[39m\u001b[38;5;124mnum isolated nodes\u001b[39m\u001b[38;5;124m'\u001b[39m)\n",
      "\u001b[0;31mNameError\u001b[0m: name 'level_reduction' is not defined"
     ]
    }
   ],
   "source": [
    "resume = f'-- statistics - {level_reduction} --\\n'\n",
    "resume += print_statistics(graph_stats['n_connected_components'],\n",
    "                 'num connected components')\n",
    "resume += print_statistics(graph_stats['n_isolated_nodes'],\n",
    "                 'num isolated nodes')\n",
    "# resume += print_statistics(graph_stats['n_nodes'],\n",
    "#                  'num nodes')\n",
    "resume += print_statistics(graph_stats['n_edges'],\n",
    "                 'num edges')\n",
    "resume += print_statistics(np.array(graph_stats['n_edges']) / np.array(graph_stats['n_nodes']),\n",
    "                           'edge density')\n",
    "resume += print_statistics(graph_stats['mean_degrees'],\n",
    "                 'mean degree')\n",
    "resume += print_statistics(graph_stats['max_degrees'],\n",
    "                 'max degrees')\n",
    "\n",
    "filename = join(folder,\n",
    "               f'resume_stats_seed_{seed}_lvl_{level_reduction}.txt')\n",
    "with open(filename, 'w') as output:\n",
    "    output.write(resume)\n",
    "print(resume)"
   ]
  },
  {
   "cell_type": "code",
   "execution_count": 46,
   "metadata": {
    "collapsed": false,
    "jupyter": {
     "outputs_hidden": false
    },
    "pycharm": {
     "name": "#%%\n"
    }
   },
   "outputs": [
    {
     "name": "stdout",
     "output_type": "stream",
     "text": [
      "[  0 638  19   0   5   0   2   0   2   1]\n",
      "[  0 396 181  46  26   7   3   4   1   0   0   0   2   0   0   0   1]\n",
      "16\n",
      "0.4\n",
      "[ 0  1  2  3  4  5  6  7  8  9 10 11 12 13 14 15 16]\n",
      "<class 'numpy.ndarray'>\n",
      "[0. 0. 0. 0. 0. 0.]\n",
      "[  0. 638.  19.   0.   5.   0.   2.   0.   2.   1.   0.   0.   0.   0.\n",
      "   0.   0.]\n"
     ]
    },
    {
     "data": {
      "image/png": "[encoded data removed]",
      "text/plain": [
       "<Figure size 576x576 with 1 Axes>"
      ]
     },
     "metadata": {
      "needs_background": "light"
     },
     "output_type": "display_data"
    }
   ],
   "source": [
    "def plot_grouped_bar(stats, prop, title, xlim, xlabel='--'):\n",
    "\n",
    "    n_bars = len(stats)\n",
    "    fig, ax = plt.subplots(figsize=(8, 8))\n",
    "    vals = []\n",
    "    max_ = 0\n",
    "    for key, stat_lvl in stats.items():\n",
    "        values = stat_lvl[prop]\n",
    "        # vals.append(values)\n",
    "        counts = np.bincount(values)\n",
    "        print(counts)\n",
    "        vals.append(counts)\n",
    "        max_ = max(max_, max(values))\n",
    "        \n",
    "    print(max_)\n",
    "    \n",
    "    width = 0.4\n",
    "    print(width)\n",
    "    x = np.arange(0, max_+1)\n",
    "    print(x)\n",
    "    print(type(counts))\n",
    "    print(np.zeros(max_ - len(vals[0])))\n",
    "    print(np.concatenate([vals[0], np.zeros(max_ - len(vals[0]))]))\n",
    "    ax.bar(x - width/2,\n",
    "           np.concatenate([vals[0], np.zeros(max_ - len(vals[0]) + 1)]),\n",
    "           width=width,\n",
    "           # align='center',\n",
    "           # linewidth=0.9,\n",
    "           # edgecolor=\"white\"\n",
    "          )\n",
    "    ax.bar(x + width/2,\n",
    "           vals[1],\n",
    "           width=width,\n",
    "           # align='center',\n",
    "           # linewidth=0.9,\n",
    "           # edgecolor=\"white\"\n",
    "          )\n",
    "    ax.set(\n",
    "        xticks=range(counts.size),\n",
    "        xlim=[0, counts.size],\n",
    "    )\n",
    "\n",
    "    ax.set(\n",
    "        title=f'{title} - {key}',\n",
    "        xlabel=xlabel,\n",
    "        ylabel='# graphs'\n",
    "    )\n",
    "    # ax.autoscale(tight=True)\n",
    "    plt.xlim(xlim)\n",
    "    # plt.ylim(0, 60)\n",
    "    plt.show()\n",
    "# Connected Components\n",
    "plot_grouped_bar(graph_stats,\n",
    "                 prop = 'n_connected_components',\n",
    "                 title=f'{dataset_name.upper()} - Analysis Connected Components',\n",
    "                 xlim=(0, 10),\n",
    "                 xlabel='# Connected Components / graph')"
   ]
  },
  {
   "cell_type": "code",
   "execution_count": 47,
   "metadata": {
    "collapsed": false,
    "jupyter": {
     "outputs_hidden": false
    },
    "pycharm": {
     "name": "#%%\n"
    }
   },
   "outputs": [
    {
     "name": "stdout",
     "output_type": "stream",
     "text": [
      "[663   4]\n",
      "[581  76   7   3]\n",
      "3\n",
      "0.4\n",
      "[0 1 2 3]\n",
      "<class 'numpy.ndarray'>\n",
      "[0.]\n",
      "[663.   4.   0.]\n"
     ]
    },
    {
     "data": {
      "image/png": "[encoded data removed]",
      "text/plain": [
       "<Figure size 576x576 with 1 Axes>"
      ]
     },
     "metadata": {
      "needs_background": "light"
     },
     "output_type": "display_data"
    }
   ],
   "source": [
    "# Isolated nodes\n",
    "plot_grouped_bar(graph_stats,\n",
    "                 prop='n_isolated_nodes',\n",
    "                 title=f'{dataset_name.upper()} - Analysis Isolated Nodes',\n",
    "                 xlim=(-1, 3),\n",
    "                 xlabel='# isolated nodes / graph')"
   ]
  },
  {
   "cell_type": "code",
   "execution_count": 213,
   "metadata": {
    "collapsed": false,
    "jupyter": {
     "outputs_hidden": false
    },
    "pycharm": {
     "name": "#%%\n"
    }
   },
   "outputs": [],
   "source": [
    "# plot_bar(graph_stats['n_nodes'],\n",
    "#          title=f'{dataset_name.upper()} - Analysis Number of Nodes',\n",
    "#          xlabel='# nodes / graph')"
   ]
  },
  {
   "cell_type": "code",
   "execution_count": 50,
   "metadata": {
    "collapsed": false,
    "jupyter": {
     "outputs_hidden": false
    },
    "pycharm": {
     "name": "#%%\n"
    }
   },
   "outputs": [
    {
     "data": {
      "image/png": "[encoded data removed]",
      "text/plain": [
       "<Figure size 576x576 with 1 Axes>"
      ]
     },
     "metadata": {
      "needs_background": "light"
     },
     "output_type": "display_data"
    }
   ],
   "source": [
    "def plot_bar(stats, prop, title, xlabel='--'):\n",
    "\n",
    "    n_plots = len(stats)\n",
    "    fig, ax = plt.subplots(1, 1, sharey=True, sharex=True, figsize=(8, 8))\n",
    "    vals = []\n",
    "    for key, stat_lvl in stats.items():\n",
    "        values = stat_lvl[prop]\n",
    "        vals.append(values)\n",
    "\n",
    "        \n",
    "\n",
    "    ax.hist(vals,\n",
    "            bins=len(vals[0])//2, # range(max(values)//2))\n",
    "            histtype='step',\n",
    "            # alpha=0.6,\n",
    "           )\n",
    "\n",
    "    ax.set(\n",
    "        title=f'{title} - {key}',\n",
    "        xlabel=xlabel,\n",
    "        ylabel='# graphs'\n",
    "    )\n",
    "    # ax.autoscale(tight=True)\n",
    "    plt.xlim(-5, 400)\n",
    "    # plt.ylim(0, 60)\n",
    "    plt.show()\n",
    "\n",
    "plot_bar(graph_stats,\n",
    "         prop='n_edges',\n",
    "         title=f'{dataset_name.upper()} - Analysis Number of Edges',\n",
    "         xlabel='# edges / graph')"
   ]
  },
  {
   "cell_type": "code",
   "execution_count": 215,
   "metadata": {
    "collapsed": false,
    "jupyter": {
     "outputs_hidden": false
    },
    "pycharm": {
     "name": "#%%\n"
    }
   },
   "outputs": [],
   "source": [
    "# plot_bar(graph_stats['mean_degrees'],\n",
    "#          title=f'{dataset_name.upper()} - Analysis Mean Degrees',\n",
    "#          xlabel='# mean degrees / graph')"
   ]
  },
  {
   "cell_type": "code",
   "execution_count": 216,
   "metadata": {
    "collapsed": false,
    "jupyter": {
     "outputs_hidden": false
    },
    "pycharm": {
     "name": "#%%\n"
    }
   },
   "outputs": [],
   "source": [
    "\n",
    "# plot_bar(graph_stats['max_degrees'],\n",
    "#          title=f'{dataset_name.upper()} - Analysis Max Degree',\n",
    "#          xlabel='# max degrees / graph')"
   ]
  },
  {
   "cell_type": "code",
   "execution_count": 36,
   "metadata": {
    "collapsed": false,
    "jupyter": {
     "outputs_hidden": false
    },
    "pycharm": {
     "name": "#%%\n"
    }
   },
   "outputs": [
    {
     "data": {
      "text/plain": [
       "array([0, 1, 2, 3, 4, 5, 6, 7, 8, 9, 0, 1, 2, 3])"
      ]
     },
     "execution_count": 36,
     "metadata": {},
     "output_type": "execute_result"
    }
   ],
   "source": [
    "a = np.arange(10)\n",
    "b = np.arange(4)\n",
    "\n",
    "np.concatenate([a, b])"
   ]
  },
  {
   "cell_type": "code",
   "execution_count": null,
   "metadata": {},
   "outputs": [],
   "source": []
  }
 ],
 "metadata": {
  "kernelspec": {
   "display_name": "Python 3 (ipykernel)",
   "language": "python",
   "name": "python3"
  },
  "language_info": {
   "codemirror_mode": {
    "name": "ipython",
    "version": 3
   },
   "file_extension": ".py",
   "mimetype": "text/x-python",
   "name": "python",
   "nbconvert_exporter": "python",
   "pygments_lexer": "ipython3",
   "version": "3.9.10"
  }
 },
 "nbformat": 4,
 "nbformat_minor": 4
}
