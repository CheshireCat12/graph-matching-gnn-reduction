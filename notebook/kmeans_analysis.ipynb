{
 "cells": [
  {
   "cell_type": "code",
   "execution_count": 76,
   "id": "cf20cd96-921e-4eff-a0de-e58224a84b23",
   "metadata": {},
   "outputs": [],
   "source": [
    "# Import\n",
    "import json\n",
    "import numpy as np\n",
    "import matplotlib.pyplot as plt\n",
    "import os.path as osp\n",
    "\n",
    "from collections import namedtuple, defaultdict\n",
    "from typing import List\n"
   ]
  },
  {
   "cell_type": "code",
   "execution_count": 79,
   "id": "c551b5e0-bca2-4f9c-8a62-54e1a7c9e864",
   "metadata": {},
   "outputs": [],
   "source": [
    "# Constant\n",
    "METHODS = {\n",
    "    'median': {'folder_result': '../results/median',\n",
    "               'json_file': 'results_general.json'},\n",
    "    'median_cluster': {'folder_result': '../results/median_cluster',\n",
    "               'json_file': 'results_general.json'},\n",
    "}"
   ]
  },
  {
   "cell_type": "code",
   "execution_count": 104,
   "id": "f9ecf7ef-f902-44cd-a0da-e400bf94c00e",
   "metadata": {},
   "outputs": [],
   "source": [
    "class Experiment:\n",
    "    \n",
    "    def __init__(self, dataset: str, method: str, experiment_folders: List[str]) -> None:\n",
    "        \"\"\"\n",
    "        \n",
    "        \"\"\"\n",
    "        self.dataset = dataset\n",
    "        self.method = method\n",
    "        \n",
    "        self.experiments = {name_exp: osp.join(METHODS[method]['folder_result'], dataset, name_exp)\n",
    "                            for name_exp in experiment_folders}\n",
    "        self.experiments_data = {}\n",
    "        \n",
    "        self._load_json_data()\n",
    "        \n",
    "    def _load_json_data(self) -> None:\n",
    "        \"\"\"Load the results data from json file\"\"\"\n",
    "        for name_exp, folder_exp in self.experiments.items():\n",
    "            filename = osp.join(folder_exp, METHODS[self.method]['json_file'])\n",
    "            with open(filename, 'r') as file:\n",
    "                data = json.load(file)\n",
    "            self.experiments_data[name_exp] = data\n",
    "\n",
    "\n",
    "experiments_median = [\n",
    "    # Experiment('enzymes', 'knn', ['baseline', 'reduced_graphs_gnn_50','50_dim_node_32',  '25', '25_freeze', '25_dim_node_32']),\n",
    "    # Experiment('enzymes', 's_knn', ['r_graphs_vec_dim_16', 'r_graphs_vec_dim_8', 'r_graphs_vec_dim_4', 'r_graphs_dim_32_epoch_10', '25_dim_node_32']),\n",
    "    # Experiment('NCI1', 'knn', ['baseline_more_seeds','reduced_graphs_gnn_50', '50_dim_node_32',  '25', '25_freeze', '25_dim_node_32']),\n",
    "    # Experiment('mutagenicity', 'knn', ['baseline_more_seeds', 'reduced_graphs_gnn_50', '50_dim_node_32', '25', '25_freeze', '25_dim_node_32']),\n",
    "    Experiment('enzymes', 'median_cluster', [f'kmeans_{2 + i}to{10 + i}' for i in range(0, 40, 10)]),\n",
    "    Experiment('proteins', 'median_cluster', [f'kmeans_{2 + i}to{10 + i}' for i in range(0, 40, 10)]),\n",
    "    Experiment('NCI1', 'median_cluster', [f'kmeans_{2 + i}to{10 + i}' for i in range(0, 40, 10)]),\n",
    "    # Experiment('proteins', 'median_cluster', ['kmeans_test_save_centroids']),\n",
    "    # Experiment('proteins', 's_knn', [ 'r_graphs_dim_32_epoch_10',]),\n",
    "    # Experiment('dd', 'knn', ['baseline_more_seeds', 'reduced_graphs_gnn_50', '50_dim_node_32', '25', '25_freeze', '25_dim_node_32']),\n",
    "]\n"
   ]
  },
  {
   "cell_type": "code",
   "execution_count": 105,
   "id": "b1af2f49-d60c-49cd-8165-af97aa209b42",
   "metadata": {},
   "outputs": [
    {
     "name": "stdout",
     "output_type": "stream",
     "text": [
      "enzymes\n",
      "proteins\n",
      "NCI1\n",
      "\n"
     ]
    }
   ],
   "source": [
    "current_dataset = 'NCI1'\n",
    "\n",
    "for experiment in experiments_median:\n",
    "    print(experiment.dataset)\n",
    "    if experiment.dataset != current_dataset:\n",
    "        continue\n",
    "    err_per_k = defaultdict(lambda: defaultdict(lambda: list()))\n",
    "    \n",
    "    print()\n",
    "    for e in experiment.experiments_data.keys():\n",
    "        for key, data in  experiment.experiments_data[e].items():\n",
    "            if key == 'parameters':\n",
    "                continue\n",
    "            # print(key)\n",
    "            for cls_, values in data.items():\n",
    "                # print(cls_)\n",
    "                # err_per_k[cls_] = defaultdict(lambda: list())\n",
    "                for n_cluster, err in values['best_err_per_k'].items():\n",
    "                    # print(n_cluster, err)\n",
    "\n",
    "                    err_per_k[cls_][n_cluster].append(err)\n",
    "                \n",
    "# print(err_per_k)\n",
    "# print(len(err_per_k))\n",
    "# print(experiments_median[0].experiments_data['kmeans_test_save_centroids'])"
   ]
  },
  {
   "cell_type": "code",
   "execution_count": 106,
   "id": "9050a569-4c0b-4230-87d2-9171b790c79c",
   "metadata": {},
   "outputs": [
    {
     "data": {
      "image/png": "[encoded data removed]",
      "text/plain": [
       "<Figure size 720x360 with 2 Axes>"
      ]
     },
     "metadata": {
      "needs_background": "light"
     },
     "output_type": "display_data"
    }
   ],
   "source": [
    "fig, axs = plt.subplots(nrows=1, ncols=len(err_per_k), sharex=True,\n",
    "                                    figsize=(5*len(err_per_k), 5))\n",
    "\n",
    "for ax, (key, val) in zip(axs, err_per_k.items()):\n",
    "    x = []\n",
    "    y = []\n",
    "    y_err = []\n",
    "    for k, err in val.items():\n",
    "        x.append(int(k))\n",
    "        y.append(np.mean(err))\n",
    "        y_err.append(np.std(err))\n",
    "    \n",
    "    np_x = np.array(x)\n",
    "    np_y = np.array(y)\n",
    "    np_y_err = np.array(y_err)\n",
    "    \n",
    "    \n",
    "    ax.set_title(f'class: {key}')\n",
    "    ax.errorbar(np.array(x), np.array(y), yerr=np_y_err)"
   ]
  },
  {
   "cell_type": "code",
   "execution_count": 74,
   "id": "932966a3-305c-408e-afe0-512c866cb523",
   "metadata": {},
   "outputs": [
    {
     "data": {
      "text/plain": [
       "[(2, 10), (12, 20), (22, 30), (32, 40)]"
      ]
     },
     "execution_count": 74,
     "metadata": {},
     "output_type": "execute_result"
    }
   ],
   "source": []
  },
  {
   "cell_type": "code",
   "execution_count": null,
   "id": "63306210-7665-4358-82af-00d6becb1b37",
   "metadata": {},
   "outputs": [],
   "source": []
  }
 ],
 "metadata": {
  "kernelspec": {
   "display_name": "Python 3",
   "language": "python",
   "name": "python3"
  },
  "language_info": {
   "codemirror_mode": {
    "name": "ipython",
    "version": 3
   },
   "file_extension": ".py",
   "mimetype": "text/x-python",
   "name": "python",
   "nbconvert_exporter": "python",
   "pygments_lexer": "ipython3",
   "version": "3.9.9"
  }
 },
 "nbformat": 4,
 "nbformat_minor": 5
}
