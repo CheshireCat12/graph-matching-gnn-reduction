{
 "cells": [
  {
   "cell_type": "code",
   "execution_count": 1,
   "id": "6f7fa597-7bc5-457c-8c45-56574d759828",
   "metadata": {},
   "outputs": [],
   "source": [
    "# Import\n",
    "import numpy as np\n",
    "import json\n",
    "import os.path as osp\n",
    "\n",
    "from collections import namedtuple\n",
    "from typing import List"
   ]
  },
  {
   "cell_type": "code",
   "execution_count": 2,
   "id": "6b829e20-cb1e-4287-945a-dc4bcf74acae",
   "metadata": {},
   "outputs": [],
   "source": [
    "# Constant\n",
    "METHODS = {\n",
    "    'knn': {'folder_result': '../results/knn',\n",
    "            'json_file': 'results_general.json'},\n",
    "    'gnn': {'folder_result': '../results/gnn',\n",
    "            'json_file': 'stats_gnn_training.json'}\n",
    "}"
   ]
  },
  {
   "cell_type": "code",
   "execution_count": 25,
   "id": "cdb3cd4f-a8b6-4af7-9fe5-01e75db22e66",
   "metadata": {},
   "outputs": [],
   "source": [
    "class Experiment:\n",
    "    \n",
    "    def __init__(self, dataset: str, method: str, experiment_folders: List[str]) -> None:\n",
    "        \"\"\"\n",
    "        \n",
    "        \"\"\"\n",
    "        self.dataset = dataset\n",
    "        self.method = method\n",
    "        \n",
    "        self.experiments = {name_exp: osp.join(METHODS[method]['folder_result'], dataset, name_exp)\n",
    "                            for name_exp in experiment_folders}\n",
    "        self.experiments_data = {}\n",
    "        \n",
    "        self._load_json_data()\n",
    "        \n",
    "    def _load_json_data(self) -> None:\n",
    "        \"\"\"Load the results data from json file\"\"\"\n",
    "        for name_exp, folder_exp in self.experiments.items():\n",
    "            filename = osp.join(folder_exp, METHODS[self.method]['json_file'])\n",
    "            with open(filename, 'r') as file:\n",
    "                data = json.load(file)\n",
    "                \n",
    "            self.experiments_data[name_exp] = data\n",
    "\n",
    "\n",
    "experiments_knn = [\n",
    "    Experiment('enzymes', 'knn', ['baseline', 'reduced_graphs_gnn_50', 'r_graphs_vec_dim_16', 'r_graphs_vec_dim_8', 'r_graphs_vec_dim_4', 'r_graphs_dim_32_epoch_10', '25', '25_freeze']),\n",
    "    Experiment('NCI1', 'knn', ['baseline_more_seeds','reduced_graphs_gnn_50']),\n",
    "    Experiment('mutagenicity', 'knn', ['baseline_more_seeds', 'reduced_graphs_gnn_50']),\n",
    "    Experiment('proteins', 'knn', ['baseline_more_seeds', 'reduced_graphs_gnn_50', 'r_graphs_dim_32_epoch_10', '25', '25_freeze']),\n",
    "    Experiment('dd', 'knn', ['baseline_more_seeds', 'reduced_graphs_gnn_50']),\n",
    "]\n",
    "\n",
    "experiments_gnn = [\n",
    "    Experiment('ENZYMES', 'gnn', ['50']),\n",
    "    Experiment('NCI1', 'gnn', ['50']),\n",
    "    Experiment('Mutagenicity', 'gnn', ['50']),\n",
    "    Experiment('PROTEINS', 'gnn', ['50']),\n",
    "    Experiment('DD', 'gnn', ['50']),\n",
    "]"
   ]
  },
  {
   "cell_type": "code",
   "execution_count": 26,
   "id": "b3223efb-c448-42f4-bf47-5fbf75de1a72",
   "metadata": {},
   "outputs": [
    {
     "name": "stdout",
     "output_type": "stream",
     "text": [
      "enzymes\n",
      "-------\n",
      "baseline\n",
      "Number of runs: 10 (with different seeds)\n",
      "Mean acc test: 49.00±3.82\n",
      "Max acc: 58.33; Min acc: 45.00\n",
      "Mean time test baseline: 11.02±2.62\n",
      "\n",
      "reduced_graphs_gnn_50\n",
      "Number of runs: 10 (with different seeds)\n",
      "Mean acc test: 42.50±4.59\n",
      "Max acc: 49.17; Min acc: 35.83\n",
      "Mean time test reduced_graphs_gnn_50: 4.89±0.75\n",
      "\n",
      "r_graphs_vec_dim_16\n",
      "Number of runs: 10 (with different seeds)\n",
      "Mean acc test: 40.92±3.81\n",
      "Max acc: 46.67; Min acc: 36.67\n",
      "Mean time test r_graphs_vec_dim_16: 1.79±0.18\n",
      "\n",
      "r_graphs_vec_dim_8\n",
      "Number of runs: 10 (with different seeds)\n",
      "Mean acc test: 41.75±7.25\n",
      "Max acc: 50.00; Min acc: 29.17\n",
      "Mean time test r_graphs_vec_dim_8: 1.67±0.12\n",
      "\n",
      "r_graphs_vec_dim_4\n",
      "Number of runs: 10 (with different seeds)\n",
      "Mean acc test: 32.75±5.00\n",
      "Max acc: 44.17; Min acc: 25.83\n",
      "Mean time test r_graphs_vec_dim_4: 1.63±0.10\n",
      "\n",
      "r_graphs_dim_32_epoch_10\n",
      "Number of runs: 10 (with different seeds)\n",
      "Mean acc test: 44.33±6.53\n",
      "Max acc: 54.17; Min acc: 33.33\n",
      "Mean time test r_graphs_dim_32_epoch_10: 1.73±0.09\n",
      "\n",
      "25\n",
      "Number of runs: 10 (with different seeds)\n",
      "Mean acc test: 28.58±3.65\n",
      "Max acc: 36.67; Min acc: 24.17\n",
      "Mean time test 25: 0.86±0.04\n",
      "\n",
      "25_freeze\n",
      "Number of runs: 10 (with different seeds)\n",
      "Mean acc test: 29.08±5.18\n",
      "Max acc: 38.33; Min acc: 21.67\n",
      "Mean time test 25_freeze: 0.86±0.10\n",
      "\n",
      "Number of runs: 10 (with different seeds)\n",
      "Mean acc test of gnn training 50: 27.33±4.86\n",
      "\n",
      "NCI1\n",
      "----\n",
      "baseline_more_seeds\n",
      "Number of runs: 5 (with different seeds)\n",
      "Mean acc test: 72.00±1.12\n",
      "Max acc: 73.72; Min acc: 70.44\n",
      "Mean time test baseline_more_seeds: 261.13±13.72\n",
      "\n",
      "reduced_graphs_gnn_50\n",
      "Number of runs: 5 (with different seeds)\n",
      "Mean acc test: 71.61±1.67\n",
      "Max acc: 72.99; Min acc: 68.37\n",
      "Mean time test reduced_graphs_gnn_50: 70.16±7.52\n",
      "\n",
      "Number of runs: 5 (with different seeds)\n",
      "Mean acc test of gnn training 50: 65.94±2.57\n",
      "\n",
      "mutagenicity\n",
      "------------\n",
      "baseline_more_seeds\n",
      "Number of runs: 5 (with different seeds)\n",
      "Mean acc test: 74.33±1.81\n",
      "Max acc: 77.19; Min acc: 71.54\n",
      "Mean time test baseline_more_seeds: 307.50±19.19\n",
      "\n",
      "reduced_graphs_gnn_50\n",
      "Number of runs: 5 (with different seeds)\n",
      "Mean acc test: 72.65±2.60\n",
      "Max acc: 76.04; Min acc: 69.59\n",
      "Mean time test reduced_graphs_gnn_50: 85.42±2.01\n",
      "\n",
      "Number of runs: 5 (with different seeds)\n",
      "Mean acc test of gnn training 50: 72.63±4.52\n",
      "\n",
      "proteins\n",
      "--------\n",
      "baseline_more_seeds\n",
      "Number of runs: 5 (with different seeds)\n",
      "Mean acc test: 71.79±4.17\n",
      "Max acc: 76.79; Min acc: 64.29\n",
      "Mean time test baseline_more_seeds: 38.10±2.32\n",
      "\n",
      "reduced_graphs_gnn_50\n",
      "Number of runs: 5 (with different seeds)\n",
      "Mean acc test: 70.54±1.62\n",
      "Max acc: 71.88; Min acc: 67.41\n",
      "Mean time test reduced_graphs_gnn_50: 11.36±0.84\n",
      "\n",
      "r_graphs_dim_32_epoch_10\n",
      "Number of runs: 5 (with different seeds)\n",
      "Mean acc test: 70.80±1.51\n",
      "Max acc: 72.77; Min acc: 68.75\n",
      "Mean time test r_graphs_dim_32_epoch_10: 5.27±0.25\n",
      "\n",
      "25\n",
      "Number of runs: 5 (with different seeds)\n",
      "Mean acc test: 68.04±2.89\n",
      "Max acc: 71.88; Min acc: 64.29\n",
      "Mean time test 25: 2.28±0.07\n",
      "\n",
      "25_freeze\n",
      "Number of runs: 5 (with different seeds)\n",
      "Mean acc test: 67.77±2.27\n",
      "Max acc: 71.43; Min acc: 65.18\n",
      "Mean time test 25_freeze: 2.31±0.07\n",
      "\n",
      "Number of runs: 5 (with different seeds)\n",
      "Mean acc test of gnn training 50: 69.55±2.06\n",
      "\n",
      "dd\n",
      "--\n",
      "baseline_more_seeds\n",
      "Number of runs: 3 (with different seeds)\n",
      "Mean acc test: 73.42±1.72\n",
      "Max acc: 75.53; Min acc: 71.31\n",
      "Mean time test baseline_more_seeds: 1994.04±255.82\n",
      "\n",
      "reduced_graphs_gnn_50\n",
      "Number of runs: 3 (with different seeds)\n",
      "Mean acc test: 74.26±2.82\n",
      "Max acc: 77.22; Min acc: 70.46\n",
      "Mean time test reduced_graphs_gnn_50: 813.83±68.86\n",
      "\n",
      "Number of runs: 5 (with different seeds)\n",
      "Mean acc test of gnn training 50: 64.81±7.50\n",
      "\n"
     ]
    }
   ],
   "source": [
    "def accuracies_time_knn(data_knn):\n",
    "    for name_exp, data in data_knn.items():\n",
    "        accuracies = []\n",
    "        prediction_times = []\n",
    "        \n",
    "        for exp_title, exp_res in data.items():\n",
    "            if exp_title == 'parameters':\n",
    "                continue\n",
    "            \n",
    "            try:\n",
    "                accuracies.append(exp_res['acc_test'])\n",
    "                prediction_times.append(exp_res['prediction_time_test'])\n",
    "            except KeyError:\n",
    "                pass\n",
    "\n",
    "        np_accuracies = np.array(accuracies)\n",
    "        np_prediction_times = np.array(prediction_times)\n",
    "        \n",
    "        print(f'{name_exp}')\n",
    "        print(f'Number of runs: {len(np_accuracies)} (with different seeds)')\n",
    "        print(f'Mean acc test: {np.mean(np_accuracies):.2f}±{np.std(np_accuracies):.2f}')\n",
    "        print(f'Max acc: {max(np_accuracies):.2f}; Min acc: {min(np_accuracies):.2f}')\n",
    "        print(f'Mean time test {name_exp}: {np.mean(np_prediction_times):.2f}±{np.std(np_prediction_times):.2f}')\n",
    "        \n",
    "        print()\n",
    "\n",
    "def accuracies_gnn(data_gnn):\n",
    "    for name_exp, data in data_gnn.items():\n",
    "        accuracies = []\n",
    "        \n",
    "        for exp_title, exp_res in data.items():\n",
    "            if exp_title == 'parameters':\n",
    "                continue\n",
    "            \n",
    "            try:\n",
    "                accuracies.append(exp_res['best_test_acc'])\n",
    "            except KeyError:\n",
    "                pass\n",
    "\n",
    "        np_accuracies = np.array(accuracies) * 100\n",
    "        \n",
    "        print(f'Number of runs: {len(np_accuracies)} (with different seeds)')\n",
    "        print(f'Mean acc test of gnn training {name_exp}: {np.mean(np_accuracies):.2f}±{np.std(np_accuracies):.2f}')\n",
    "        \n",
    "        print()\n",
    "    \n",
    "        \n",
    "for exps_knn, exps_gnn in zip(experiments_knn, experiments_gnn):\n",
    "    print(f'{exps_knn.dataset}')\n",
    "    print('-'*len(exps_knn.dataset))\n",
    "    \n",
    "    # print(exps_gnn.experiments_data['50'].items())\n",
    "    accuracies_time_knn(exps_knn.experiments_data)\n",
    "    accuracies_gnn(exps_gnn.experiments_data)\n",
    "    \n",
    "        \n",
    "# experiments[0].experiments_data"
   ]
  },
  {
   "cell_type": "code",
   "execution_count": 7,
   "id": "1439961a-fdea-47e9-9586-f926cd10b536",
   "metadata": {},
   "outputs": [
    {
     "ename": "NameError",
     "evalue": "name 'data_full' is not defined",
     "output_type": "error",
     "traceback": [
      "\u001b[0;31m---------------------------------------------------------------------------\u001b[0m",
      "\u001b[0;31mNameError\u001b[0m                                 Traceback (most recent call last)",
      "\u001b[0;32m/tmp/ipykernel_66048/322612488.py\u001b[0m in \u001b[0;36m<module>\u001b[0;34m\u001b[0m\n\u001b[1;32m      2\u001b[0m \u001b[0mtest_accuracies_50\u001b[0m \u001b[0;34m=\u001b[0m \u001b[0;34m[\u001b[0m\u001b[0;34m]\u001b[0m\u001b[0;34m\u001b[0m\u001b[0;34m\u001b[0m\u001b[0m\n\u001b[1;32m      3\u001b[0m \u001b[0;34m\u001b[0m\u001b[0m\n\u001b[0;32m----> 4\u001b[0;31m \u001b[0;32mfor\u001b[0m \u001b[0mexp_title\u001b[0m\u001b[0;34m,\u001b[0m \u001b[0mexp\u001b[0m \u001b[0;32min\u001b[0m \u001b[0mdata_full\u001b[0m\u001b[0;34m.\u001b[0m\u001b[0mitems\u001b[0m\u001b[0;34m(\u001b[0m\u001b[0;34m)\u001b[0m\u001b[0;34m:\u001b[0m\u001b[0;34m\u001b[0m\u001b[0;34m\u001b[0m\u001b[0m\n\u001b[0m\u001b[1;32m      5\u001b[0m     \u001b[0;32mif\u001b[0m \u001b[0mexp_title\u001b[0m \u001b[0;34m==\u001b[0m \u001b[0;34m'parameters'\u001b[0m\u001b[0;34m:\u001b[0m\u001b[0;34m\u001b[0m\u001b[0;34m\u001b[0m\u001b[0m\n\u001b[1;32m      6\u001b[0m         \u001b[0;32mcontinue\u001b[0m\u001b[0;34m\u001b[0m\u001b[0;34m\u001b[0m\u001b[0m\n",
      "\u001b[0;31mNameError\u001b[0m: name 'data_full' is not defined"
     ]
    }
   ],
   "source": [
    "test_accuracies = []\n",
    "test_accuracies_50 = []\n",
    "\n",
    "for exp_title, exp in data_full.items():\n",
    "    if exp_title == 'parameters':\n",
    "        continue\n",
    "\n",
    "    test_accuracies.append(exp['acc_test'])\n",
    "    \n",
    "for exp_title, exp in data_50.items():\n",
    "    if exp_title == 'parameters':\n",
    "        continue\n",
    "\n",
    "    test_accuracies_50.append(exp['acc_test'])\n",
    "    print(exp_title, exp['best_params'], exp['acc_test'])"
   ]
  },
  {
   "cell_type": "code",
   "execution_count": 8,
   "id": "010219bc-059f-4254-9e4e-9eaafa4306ca",
   "metadata": {},
   "outputs": [
    {
     "name": "stdout",
     "output_type": "stream",
     "text": [
      "Mean acc test full size: 49.08±3.77\n",
      "Mean acc test 50% reduced: 44.33±4.21\n"
     ]
    }
   ],
   "source": [
    "np_test_acc = np.array(test_accuracies)\n",
    "np_test_acc_50 = np.array(test_accuracies_50)\n",
    "print(f'Mean acc test full size: {np.mean(np_test_acc):.2f}±{np.std(np_test_acc):.2f}')\n",
    "print(f'Mean acc test 50% reduced: {np.mean(np_test_acc_50):.2f}±{np.std(np_test_acc_50):.2f}')"
   ]
  },
  {
   "cell_type": "code",
   "execution_count": 10,
   "id": "9db1d1c6-83a0-4378-8fa1-efcdba3ec086",
   "metadata": {},
   "outputs": [
    {
     "name": "stdout",
     "output_type": "stream",
     "text": [
      "Mean acc test: 49.08±3.77\n",
      "Mean acc test: 45.58±4.15\n"
     ]
    }
   ],
   "source": [
    "print(f'Mean acc test full size: {np.mean(np_test_acc):.2f}±{np.std(np_test_acc):.2f}')\n",
    "print(f'Mean acc test 50% reduced: {np.mean(np_test_acc_50):.2f}±{np.std(np_test_acc_50):.2f}')"
   ]
  },
  {
   "cell_type": "code",
   "execution_count": 11,
   "id": "416fd75a-20f8-4eda-a9d3-12e2220c8baf",
   "metadata": {},
   "outputs": [],
   "source": [
    "gnn_stats = {\n",
    "    1860: {'val': 0.31, 'test': 0.23},\n",
    "    1344: {'val': 0.38, 'test': 0.28},\n",
    "    255: {'val': 0.34, 'test': 0.26},\n",
    "    1841: {'val': 0.28, 'test': 0.17},\n",
    "    277: {'val': 0.36, 'test': 0.35},\n",
    "    58: {'val': 0.31, 'test': 0.27},\n",
    "    16: {'val': 0.26, 'test': 0.33},\n",
    "    307: {'val':  0.38, 'test': 0.30},\n",
    "    657: {'val':  0.29, 'test': 0.24},\n",
    "    1211: {'val':  0.36, 'test': 0.33},\n",
    "}"
   ]
  },
  {
   "cell_type": "code",
   "execution_count": 15,
   "id": "076782af-da87-4b66-a12f-8737591f4232",
   "metadata": {},
   "outputs": [],
   "source": [
    "np_test_train = np.array([stats['test'] for run, stats in gnn_stats.items()]) * 100"
   ]
  },
  {
   "cell_type": "code",
   "execution_count": 16,
   "id": "82aeb83f-abdf-4d8d-a687-e6c50cb35333",
   "metadata": {},
   "outputs": [
    {
     "name": "stdout",
     "output_type": "stream",
     "text": [
      "Mean acc test GNN: 27.60±5.18\n"
     ]
    }
   ],
   "source": [
    "print(f'Mean acc test GNN: {np.mean(np_test_train):.2f}±{np.std(np_test_train):.2f}')"
   ]
  },
  {
   "cell_type": "code",
   "execution_count": 17,
   "id": "1374878e-f748-403e-b508-2d0c55178b1b",
   "metadata": {},
   "outputs": [
    {
     "name": "stdout",
     "output_type": "stream",
     "text": [
      "[23. 28. 26. 17. 35. 27. 33. 30. 24. 33.]\n"
     ]
    }
   ],
   "source": [
    "print(np_test_train)"
   ]
  },
  {
   "cell_type": "code",
   "execution_count": null,
   "id": "2ec0b58d-2d90-43e4-a8a0-8afc7e07392b",
   "metadata": {},
   "outputs": [],
   "source": []
  }
 ],
 "metadata": {
  "kernelspec": {
   "display_name": "Python 3 (ipykernel)",
   "language": "python",
   "name": "python3"
  },
  "language_info": {
   "codemirror_mode": {
    "name": "ipython",
    "version": 3
   },
   "file_extension": ".py",
   "mimetype": "text/x-python",
   "name": "python",
   "nbconvert_exporter": "python",
   "pygments_lexer": "ipython3",
   "version": "3.9.7"
  }
 },
 "nbformat": 4,
 "nbformat_minor": 5
}
