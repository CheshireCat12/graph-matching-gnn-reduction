{
 "cells": [
  {
   "cell_type": "code",
   "execution_count": 9,
   "id": "6f7fa597-7bc5-457c-8c45-56574d759828",
   "metadata": {},
   "outputs": [],
   "source": [
    "# \n",
    "import numpy as np\n",
    "experiment_name_full = 'complete_run_original_graphs_new_seed'\n",
    "experiment_name_50 = 'reduced_graph_with_correct_split_size'\n",
    "# experiment_name_50 = 'reduced_graph_with_correct_split_size_bug_corrected'\n",
    "dataset = 'enzymes'\n",
    "size_graph = '100'"
   ]
  },
  {
   "cell_type": "code",
   "execution_count": null,
   "id": "cdb3cd4f-a8b6-4af7-9fe5-01e75db22e66",
   "metadata": {},
   "outputs": [],
   "source": [
    "\n",
    "\n"
   ]
  },
  {
   "cell_type": "code",
   "execution_count": 10,
   "id": "b3223efb-c448-42f4-bf47-5fbf75de1a72",
   "metadata": {},
   "outputs": [],
   "source": [
    "import json\n",
    "\n",
    "filename_full = f'../results/knn/{dataset}/{experiment_name_full}/results_general.json'\n",
    "filename_50 = f'../results/knn/{dataset}/{experiment_name_50}/results_general.json'\n",
    "\n",
    "with open(filename_full, 'r') as file:\n",
    "    data_full = json.load(file)\n",
    "    \n",
    "with open(filename_50, 'r') as file:  \n",
    "    data_50 = json.load(file)\n",
    "    "
   ]
  },
  {
   "cell_type": "code",
   "execution_count": 12,
   "id": "1439961a-fdea-47e9-9586-f926cd10b536",
   "metadata": {},
   "outputs": [
    {
     "name": "stdout",
     "output_type": "stream",
     "text": [
      "exp_16 [1, 0.9] 49.166666666666664\n",
      "exp_58 [1, 0.75] 42.5\n",
      "exp_255 [1, 0.75] 42.5\n",
      "exp_277 [1, 0.95] 48.333333333333336\n",
      "exp_307 [1, 0.95] 38.333333333333336\n",
      "exp_657 [1, 0.75] 46.666666666666664\n",
      "exp_1211 [1, 0.95] 44.166666666666664\n",
      "exp_1344 [1, 0.95] 48.333333333333336\n",
      "exp_1841 [1, 0.9] 53.333333333333336\n",
      "exp_1860 [1, 0.95] 42.5\n"
     ]
    }
   ],
   "source": [
    "test_accuracies = []\n",
    "test_accuracies_50 = []\n",
    "\n",
    "for exp_title, exp in data_full.items():\n",
    "    if exp_title == 'parameters':\n",
    "        continue\n",
    "\n",
    "    test_accuracies.append(exp['acc_test'])\n",
    "    \n",
    "for exp_title, exp in data_50.items():\n",
    "    if exp_title == 'parameters':\n",
    "        continue\n",
    "\n",
    "    test_accuracies_50.append(exp['acc_test'])\n",
    "    print(exp_title, exp['best_params'], exp['acc_test'])"
   ]
  },
  {
   "cell_type": "code",
   "execution_count": 8,
   "id": "010219bc-059f-4254-9e4e-9eaafa4306ca",
   "metadata": {},
   "outputs": [
    {
     "name": "stdout",
     "output_type": "stream",
     "text": [
      "Mean acc test full size: 49.08±3.77\n",
      "Mean acc test 50% reduced: 44.33±4.21\n"
     ]
    }
   ],
   "source": [
    "np_test_acc = np.array(test_accuracies)\n",
    "np_test_acc_50 = np.array(test_accuracies_50)\n",
    "print(f'Mean acc test full size: {np.mean(np_test_acc):.2f}±{np.std(np_test_acc):.2f}')\n",
    "print(f'Mean acc test 50% reduced: {np.mean(np_test_acc_50):.2f}±{np.std(np_test_acc_50):.2f}')"
   ]
  },
  {
   "cell_type": "code",
   "execution_count": 10,
   "id": "9db1d1c6-83a0-4378-8fa1-efcdba3ec086",
   "metadata": {},
   "outputs": [
    {
     "name": "stdout",
     "output_type": "stream",
     "text": [
      "Mean acc test: 49.08±3.77\n",
      "Mean acc test: 45.58±4.15\n"
     ]
    }
   ],
   "source": [
    "print(f'Mean acc test full size: {np.mean(np_test_acc):.2f}±{np.std(np_test_acc):.2f}')\n",
    "print(f'Mean acc test 50% reduced: {np.mean(np_test_acc_50):.2f}±{np.std(np_test_acc_50):.2f}')"
   ]
  },
  {
   "cell_type": "code",
   "execution_count": 11,
   "id": "416fd75a-20f8-4eda-a9d3-12e2220c8baf",
   "metadata": {},
   "outputs": [],
   "source": [
    "gnn_stats = {\n",
    "    1860: {'val': 0.31, 'test': 0.23},\n",
    "    1344: {'val': 0.38, 'test': 0.28},\n",
    "    255: {'val': 0.34, 'test': 0.26},\n",
    "    1841: {'val': 0.28, 'test': 0.17},\n",
    "    277: {'val': 0.36, 'test': 0.35},\n",
    "    58: {'val': 0.31, 'test': 0.27},\n",
    "    16: {'val': 0.26, 'test': 0.33},\n",
    "    307: {'val':  0.38, 'test': 0.30},\n",
    "    657: {'val':  0.29, 'test': 0.24},\n",
    "    1211: {'val':  0.36, 'test': 0.33},\n",
    "}"
   ]
  },
  {
   "cell_type": "code",
   "execution_count": 15,
   "id": "076782af-da87-4b66-a12f-8737591f4232",
   "metadata": {},
   "outputs": [],
   "source": [
    "np_test_train = np.array([stats['test'] for run, stats in gnn_stats.items()]) * 100"
   ]
  },
  {
   "cell_type": "code",
   "execution_count": 16,
   "id": "82aeb83f-abdf-4d8d-a687-e6c50cb35333",
   "metadata": {},
   "outputs": [
    {
     "name": "stdout",
     "output_type": "stream",
     "text": [
      "Mean acc test GNN: 27.60±5.18\n"
     ]
    }
   ],
   "source": [
    "print(f'Mean acc test GNN: {np.mean(np_test_train):.2f}±{np.std(np_test_train):.2f}')"
   ]
  },
  {
   "cell_type": "code",
   "execution_count": 17,
   "id": "1374878e-f748-403e-b508-2d0c55178b1b",
   "metadata": {},
   "outputs": [
    {
     "name": "stdout",
     "output_type": "stream",
     "text": [
      "[23. 28. 26. 17. 35. 27. 33. 30. 24. 33.]\n"
     ]
    }
   ],
   "source": [
    "print(np_test_train)"
   ]
  },
  {
   "cell_type": "code",
   "execution_count": null,
   "id": "2ec0b58d-2d90-43e4-a8a0-8afc7e07392b",
   "metadata": {},
   "outputs": [],
   "source": []
  }
 ],
 "metadata": {
  "kernelspec": {
   "display_name": "Python 3",
   "language": "python",
   "name": "python3"
  },
  "language_info": {
   "codemirror_mode": {
    "name": "ipython",
    "version": 3
   },
   "file_extension": ".py",
   "mimetype": "text/x-python",
   "name": "python",
   "nbconvert_exporter": "python",
   "pygments_lexer": "ipython3",
   "version": "3.9.7"
  }
 },
 "nbformat": 4,
 "nbformat_minor": 5
}
