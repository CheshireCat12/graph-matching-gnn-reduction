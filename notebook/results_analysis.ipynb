{
 "cells": [
  {
   "cell_type": "code",
   "execution_count": 13,
   "id": "6f7fa597-7bc5-457c-8c45-56574d759828",
   "metadata": {},
   "outputs": [],
   "source": [
    "# \n",
    "import numpy as np\n",
    "experiment_name = 'complete_run_original_graphs_new_seed'\n",
    "dataset = 'enzymes'\n",
    "size_graph = '100'"
   ]
  },
  {
   "cell_type": "code",
   "execution_count": 6,
   "id": "cdb3cd4f-a8b6-4af7-9fe5-01e75db22e66",
   "metadata": {},
   "outputs": [
    {
     "name": "stdout",
     "output_type": "stream",
     "text": [
      "../results/knn/enzymes/complete_run_original_graphs_new_seed/results_general.json\n"
     ]
    }
   ],
   "source": [
    "filename = f'../results/knn/{dataset}/{experiment_name}/results_general.json'\n",
    "import json\n",
    "print(filename)"
   ]
  },
  {
   "cell_type": "code",
   "execution_count": 7,
   "id": "b3223efb-c448-42f4-bf47-5fbf75de1a72",
   "metadata": {},
   "outputs": [],
   "source": [
    "with open(filename, 'r') as file:\n",
    "    data = json.load(file)\n",
    "    "
   ]
  },
  {
   "cell_type": "code",
   "execution_count": 14,
   "id": "1439961a-fdea-47e9-9586-f926cd10b536",
   "metadata": {},
   "outputs": [
    {
     "name": "stdout",
     "output_type": "stream",
     "text": [
      "exp_1211\n",
      "51.66666666666667\n",
      "exp_1344\n",
      "45.83333333333333\n",
      "exp_16\n",
      "58.333333333333336\n",
      "exp_1841\n",
      "49.166666666666664\n",
      "exp_1860\n",
      "49.166666666666664\n",
      "exp_1932\n",
      "47.5\n",
      "exp_255\n",
      "48.333333333333336\n",
      "exp_277\n",
      "45.0\n",
      "exp_307\n",
      "45.0\n",
      "exp_58\n",
      "50.83333333333333\n"
     ]
    }
   ],
   "source": [
    "test_accuracies = []\n",
    "\n",
    "for exp_title, exp in data.items():\n",
    "    if exp_title == 'parameters':\n",
    "        continue\n",
    "        \n",
    "    print(exp_title)\n",
    "    print(exp['acc_test'])\n",
    "    test_accuracies.append(exp['acc_test'])"
   ]
  },
  {
   "cell_type": "code",
   "execution_count": 15,
   "id": "010219bc-059f-4254-9e4e-9eaafa4306ca",
   "metadata": {},
   "outputs": [],
   "source": [
    "np_test_acc = np.array(test_accuracies)"
   ]
  },
  {
   "cell_type": "code",
   "execution_count": 17,
   "id": "9db1d1c6-83a0-4378-8fa1-efcdba3ec086",
   "metadata": {},
   "outputs": [
    {
     "name": "stdout",
     "output_type": "stream",
     "text": [
      "Mean acc test: 49.08±3.77\n"
     ]
    }
   ],
   "source": [
    "print(f'Mean acc test: {np.mean(np_test_acc):.2f}±{np.std(np_test_acc):.2f}')"
   ]
  },
  {
   "cell_type": "code",
   "execution_count": null,
   "id": "416fd75a-20f8-4eda-a9d3-12e2220c8baf",
   "metadata": {},
   "outputs": [],
   "source": []
  }
 ],
 "metadata": {
  "kernelspec": {
   "display_name": "Python 3",
   "language": "python",
   "name": "python3"
  },
  "language_info": {
   "codemirror_mode": {
    "name": "ipython",
    "version": 3
   },
   "file_extension": ".py",
   "mimetype": "text/x-python",
   "name": "python",
   "nbconvert_exporter": "python",
   "pygments_lexer": "ipython3",
   "version": "3.9.7"
  }
 },
 "nbformat": 4,
 "nbformat_minor": 5
}
